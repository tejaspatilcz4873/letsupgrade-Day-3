{
 "cells": [
  {
   "cell_type": "markdown",
   "metadata": {},
   "source": [
    "# Name : Tejas Anil Patil\n",
    "LetsUpgrade AI & ML Assignment : Day 03"
   ]
  },
  {
   "cell_type": "markdown",
   "metadata": {},
   "source": [
    "# Question 1 : Write a program to subtract two complex numbers in Python."
   ]
  },
  {
   "cell_type": "code",
   "execution_count": 1,
   "metadata": {},
   "outputs": [
    {
     "name": "stdout",
     "output_type": "stream",
     "text": [
      "(4+2j)\n",
      "<class 'complex'>\n",
      "\n",
      "(26+9j)\n",
      "<class 'complex'>\n",
      "\n",
      "subtract two complex numbers =  (-22-7j)\n"
     ]
    }
   ],
   "source": [
    "a = 4 + 2j      # assigning complex number for a \n",
    "b = 26 + 9j      # assigning complex number for b\n",
    "\n",
    "print(a)        # printing value of a\n",
    "print(type(a))  # checking type of a\n",
    "print()         # printing just blank line for output looks like good\n",
    "print(b)        # printing value of b\n",
    "print(type(b))  # checking type of a\n",
    "print()         # printing just blank line for output looks like good\n",
    "print(\"subtract two complex numbers = \",a-b)   # here is main required output"
   ]
  },
  {
   "cell_type": "markdown",
   "metadata": {},
   "source": [
    "# Question 2 : Write a program to find the fourth root of a number."
   ]
  },
  {
   "cell_type": "code",
   "execution_count": 2,
   "metadata": {},
   "outputs": [
    {
     "name": "stdout",
     "output_type": "stream",
     "text": [
      "Enter the number for finding out 4th root : 67\n",
      "Forth root of given number is =  2.861005552576305\n"
     ]
    }
   ],
   "source": [
    "num = int(input(\"Enter the number for finding out 4th root : \"))\n",
    "\n",
    "fourth_root = num ** 0.25     # for fourth root use power (1/4) ie. 0.25\n",
    "\n",
    "print(\"Forth root of given number is = \",fourth_root)"
   ]
  },
  {
   "cell_type": "markdown",
   "metadata": {},
   "source": [
    "# Question 3: Write a program to swap two numbers in Python with the help of a temporary variable."
   ]
  },
  {
   "cell_type": "code",
   "execution_count": 3,
   "metadata": {},
   "outputs": [
    {
     "name": "stdout",
     "output_type": "stream",
     "text": [
      "Initialy value of a : 1001\n",
      "Initialy value of b : 2002\n",
      "Value of a is swap to b, so now a =  2002\n",
      "Value of b is swap to a, so now b =  1001\n"
     ]
    }
   ],
   "source": [
    "a = 1001\n",
    "b = 2002\n",
    "\n",
    "print(\"Initialy value of a :\",a)\n",
    "print(\"Initialy value of b :\",b)\n",
    "\n",
    "temp = a            # here I use one temperory variable for storing value of \n",
    "a = b               # here I store value of b in a so valu of b is swap in a\n",
    "b = temp            # here I store temp value in b means a value is swap into b using temp variable\n",
    "\n",
    "print(\"Value of a is swap to b, so now a = \", a)\n",
    "print(\"Value of b is swap to a, so now b = \", b)"
   ]
  },
  {
   "cell_type": "markdown",
   "metadata": {},
   "source": [
    "# Question 4: Write a program to swap two numbers in Python without using a temporary variable"
   ]
  },
  {
   "cell_type": "code",
   "execution_count": 4,
   "metadata": {},
   "outputs": [
    {
     "name": "stdout",
     "output_type": "stream",
     "text": [
      "Initially, value of a = 1001\n",
      "Initially, value of b = 2002\n",
      "Value of a is swapped with b, so now a =  2002\n",
      "Value of b is swapped with a, so now b =  1001\n"
     ]
    }
   ],
   "source": [
    "a = 1001\n",
    "b = 2002\n",
    "\n",
    "print(\"Initially, value of a =\",a)\n",
    "print(\"Initially, value of b =\",b)\n",
    "\n",
    "a, b = b, a   # here I directy write a=b  and b=a by using comma for seperation in one line without using temp variable\n",
    "\n",
    "print(\"Value of a is swapped with b, so now a = \", a)\n",
    "print(\"Value of b is swapped with a, so now b = \", b)\n",
    "\n",
    "\n"
   ]
  },
  {
   "cell_type": "markdown",
   "metadata": {},
   "source": [
    "# Question 5: Write a program to convert fahrenheit to kelvin and celsius both."
   ]
  },
  {
   "cell_type": "code",
   "execution_count": 5,
   "metadata": {},
   "outputs": [
    {
     "name": "stdout",
     "output_type": "stream",
     "text": [
      "Enter the temperature in fahrenheit : 212\n",
      "212.0 degree Fahrenheit =  100.0 degree celsius\n",
      "212.0 degree Fahrenheit =  373.0 kelvin\n"
     ]
    }
   ],
   "source": [
    "fahrenheit = float(input(\"Enter the temperature in fahrenheit : \")) # taking value from user\n",
    "\n",
    "celsius = (fahrenheit - 32) * 5/9   # formula for conversion from fahrenheit to celsius\n",
    "\n",
    "kelvin = celsius + 273              # formula for conversion from celsius to kelvin\n",
    "\n",
    "print(fahrenheit, \"degree Fahrenheit = \",celsius,\"degree celsius\")\n",
    "print(fahrenheit, \"degree Fahrenheit = \",kelvin,\"kelvin\")\n"
   ]
  },
  {
   "cell_type": "markdown",
   "metadata": {},
   "source": [
    "# Question 6: Write a program to demonstrate all the available data types in Python. Hint: Use type() function"
   ]
  },
  {
   "cell_type": "code",
   "execution_count": 6,
   "metadata": {},
   "outputs": [
    {
     "name": "stdout",
     "output_type": "stream",
     "text": [
      "45\n",
      "<class 'int'>\n",
      "\n",
      "111.56743\n",
      "<class 'float'>\n",
      "\n",
      "(10, 0, 0)\n",
      "<class 'tuple'>\n",
      "\n",
      "Hello Tejas here\n",
      "<class 'str'>\n",
      "\n",
      "['h', 'y', 'u', 'n', 'd', 'a', 'i']\n",
      "<class 'list'>\n",
      "\n",
      "{'Manufacturer': 'Hyundai', 'Model': 'Verna'}\n",
      "<class 'dict'>\n"
     ]
    }
   ],
   "source": [
    "a = 45\n",
    "print(a)\n",
    "print(type(a))\n",
    "print()\n",
    "\n",
    "b = 111.56743\n",
    "print(b)\n",
    "print(type(b))\n",
    "print()\n",
    "\n",
    "c = 10,00,000\n",
    "print(c)\n",
    "print(type(c))\n",
    "print()\n",
    "\n",
    "my_str = \"Hello Tejas here\"\n",
    "print(my_str)\n",
    "print(type(my_str))\n",
    "print()\n",
    "\n",
    "my_lst = list(\"hyundai\")\n",
    "print(my_lst)\n",
    "print(type(my_lst))\n",
    "print()\n",
    "\n",
    "my_dict = {'Manufacturer':\"Hyundai\", 'Model':\"Verna\"}\n",
    "print(my_dict)\n",
    "print(type(my_dict))"
   ]
  },
  {
   "cell_type": "markdown",
   "metadata": {},
   "source": [
    "# Question 7: Create a Markdown cell in jupyter and list the steps discussed in the session by Dr. Darshan Ingle sir to create Github profile and upload Githubs Assignment link."
   ]
  },
  {
   "cell_type": "markdown",
   "metadata": {},
   "source": [
    "\n",
    "\n",
    "1) For creating github profile go to github.com\n",
    "\n",
    "2) Sign Up with your email if you don't have not account on github.\n",
    "\n",
    "3) If you have github account then sign in your account.\n",
    "\n",
    "4) Create a Github public Repository.\n",
    "\n",
    "5) Give name it LetsUpgrade AI/ML.\n",
    "\n",
    "6) Upload the files/solution in the repositories with daywise segregation.\n",
    "\n",
    "7) Copy the URL of the Folder of that day and paste in the Assignment Submission Form.\n",
    "\n",
    "8) Again check is it you link is public or not.\n"
   ]
  }
 ],
 "metadata": {
  "kernelspec": {
   "display_name": "Python 3",
   "language": "python",
   "name": "python3"
  },
  "language_info": {
   "codemirror_mode": {
    "name": "ipython",
    "version": 3
   },
   "file_extension": ".py",
   "mimetype": "text/x-python",
   "name": "python",
   "nbconvert_exporter": "python",
   "pygments_lexer": "ipython3",
   "version": "3.7.6"
  }
 },
 "nbformat": 4,
 "nbformat_minor": 4
}
